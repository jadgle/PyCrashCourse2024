{
  "nbformat": 4,
  "nbformat_minor": 0,
  "metadata": {
    "colab": {
      "provenance": []
    },
    "kernelspec": {
      "name": "python3",
      "display_name": "Python 3"
    },
    "language_info": {
      "name": "python"
    }
  },
  "cells": [
    {
      "cell_type": "markdown",
      "source": [
        "# Python Crash Course - Episode 1\n",
        "\n",
        "<!-- *In this episode we are going to learn...*\n",
        "- some differences between Python and other languages (as C or Java);\n",
        "- how to print a string;\n",
        "- different data types;\n",
        "- if, for and while loops. -->\n",
        "\n",
        "\n",
        "Python is a very intuitive language, and has a very straightforward syntax.\n",
        "\n",
        "\n",
        "\n",
        "\n",
        "\n",
        "\n",
        "\n"
      ],
      "metadata": {
        "id": "L6TNjPZKPgCN"
      }
    },
    {
      "cell_type": "code",
      "execution_count": null,
      "metadata": {
        "id": "_OcatvDtPamu",
        "colab": {
          "base_uri": "https://localhost:8080/"
        },
        "outputId": "2f5cfe58-64d4-480c-e0a3-281343820f08"
      },
      "outputs": [
        {
          "output_type": "stream",
          "name": "stdout",
          "text": [
            "Look how easy this is!\n"
          ]
        }
      ],
      "source": [
        "print(\"Look how easy this is!\")"
      ]
    },
    {
      "cell_type": "markdown",
      "source": [
        "1.   It uses indentation for blocks, instead of curly braces (as Java). Both tabs and spaces are supported, but the standard indentation requires the use of four spaces (1 tab).  \n",
        "2.   It is both a *strongly typed* and a *dynamically* typed language. This means that runtime objects always have a type and this matters when performing operations, but also that such type does not determine the variable itself.\n",
        "3.   Python has inbuilt dynamic memory allocation and deletion processes that enables efficient memory management."
      ],
      "metadata": {
        "id": "om3aiwJ5dEU6"
      }
    },
    {
      "cell_type": "code",
      "source": [
        "a = 1.0\n",
        "print(type(a))\n"
      ],
      "metadata": {
        "id": "yiuNmuiedUdg",
        "colab": {
          "base_uri": "https://localhost:8080/"
        },
        "outputId": "abda3fa4-d9d5-4c38-b5a0-04d7f2760f18"
      },
      "execution_count": 1,
      "outputs": [
        {
          "output_type": "stream",
          "name": "stdout",
          "text": [
            "<class 'float'>\n"
          ]
        }
      ]
    },
    {
      "cell_type": "code",
      "source": [
        "a = 2.2\n",
        "b = 5\n",
        "c = \"number\"\n",
        "\n",
        "print(\"We can sum numbers of different types: a + b =\", a+b)\n",
        "print(\"But not numbers and strings: c + a = ...\")\n",
        "c + a"
      ],
      "metadata": {
        "id": "wbjuzX7PtfOB",
        "colab": {
          "base_uri": "https://localhost:8080/",
          "height": 211
        },
        "outputId": "e6953c9c-e5a2-4c9c-fa0b-7d6716aeb921"
      },
      "execution_count": null,
      "outputs": [
        {
          "output_type": "stream",
          "name": "stdout",
          "text": [
            "We can sum numbers of different types: a + b = 7.2\n",
            "But not numbers and strings: c + a = ...\n"
          ]
        },
        {
          "output_type": "error",
          "ename": "TypeError",
          "evalue": "can only concatenate str (not \"float\") to str",
          "traceback": [
            "\u001b[0;31m---------------------------------------------------------------------------\u001b[0m",
            "\u001b[0;31mTypeError\u001b[0m                                 Traceback (most recent call last)",
            "\u001b[0;32m<ipython-input-9-ab8b7d346360>\u001b[0m in \u001b[0;36m<cell line: 7>\u001b[0;34m()\u001b[0m\n\u001b[1;32m      5\u001b[0m \u001b[0mprint\u001b[0m\u001b[0;34m(\u001b[0m\u001b[0;34m\"We can sum numbers of different types: a + b =\"\u001b[0m\u001b[0;34m,\u001b[0m \u001b[0ma\u001b[0m\u001b[0;34m+\u001b[0m\u001b[0mb\u001b[0m\u001b[0;34m)\u001b[0m\u001b[0;34m\u001b[0m\u001b[0;34m\u001b[0m\u001b[0m\n\u001b[1;32m      6\u001b[0m \u001b[0mprint\u001b[0m\u001b[0;34m(\u001b[0m\u001b[0;34m\"But not numbers and strings: c + a = ...\"\u001b[0m\u001b[0;34m)\u001b[0m\u001b[0;34m\u001b[0m\u001b[0;34m\u001b[0m\u001b[0m\n\u001b[0;32m----> 7\u001b[0;31m \u001b[0mc\u001b[0m \u001b[0;34m+\u001b[0m \u001b[0ma\u001b[0m\u001b[0;34m\u001b[0m\u001b[0;34m\u001b[0m\u001b[0m\n\u001b[0m",
            "\u001b[0;31mTypeError\u001b[0m: can only concatenate str (not \"float\") to str"
          ]
        }
      ]
    },
    {
      "cell_type": "markdown",
      "source": [
        "## Lists\n",
        "\n",
        "The first data structure we are going to introduce is the list. List elements are written within square brackets `[ ]`, and we can use the `len()` function to determine the length of the data structure. Square brackets are also used to access data, with the first element at index `0`."
      ],
      "metadata": {
        "id": "bgwLeKSf4Geu"
      }
    },
    {
      "cell_type": "code",
      "source": [
        "my_first_list = [\"muffins\", 1, 0.5] # it is possible to concatenate different data types in a list\n",
        "my_first_list[2]"
      ],
      "metadata": {
        "id": "BADyLbsu5aNO",
        "colab": {
          "base_uri": "https://localhost:8080/"
        },
        "outputId": "fce61e48-850d-41ee-f610-9a00acb05044"
      },
      "execution_count": null,
      "outputs": [
        {
          "output_type": "execute_result",
          "data": {
            "text/plain": [
              "0.5"
            ]
          },
          "metadata": {},
          "execution_count": 13
        }
      ]
    },
    {
      "cell_type": "markdown",
      "source": [
        "Assignment with an = on lists does not make a copy. Instead, assignment makes the two variables point to the one list in memory."
      ],
      "metadata": {
        "id": "GRg0y9Mg6Hgl"
      }
    },
    {
      "cell_type": "code",
      "source": [
        "# what does this mean?\n",
        "my_second_list = my_first_list\n",
        "my_second_list[0] = 32\n",
        "\n",
        "my_first_list\n"
      ],
      "metadata": {
        "id": "pVMc9UEV6A82",
        "colab": {
          "base_uri": "https://localhost:8080/"
        },
        "outputId": "07bad3e9-70b2-4a25-e488-475e97507abf"
      },
      "execution_count": null,
      "outputs": [
        {
          "output_type": "execute_result",
          "data": {
            "text/plain": [
              "[32, 1, 0.5]"
            ]
          },
          "metadata": {},
          "execution_count": 17
        }
      ]
    },
    {
      "cell_type": "markdown",
      "source": [
        "Lists are objects, and we can act on them using methods from their class. Here are some common list methods. Many others can be found in the [official documentation](https://docs.python.org/3/tutorial/datastructures.html).\n",
        "\n",
        "* `list.append(elem)` -- adds a single element to the end of the list. Common error: does not return the new list, just\n",
        "modifies the original.\n",
        "* `list.insert(index, elem)` -- inserts the element at the given index, shifting the remaining elements to the right.\n",
        "* `list.index(elem)` -- searches for the given element from the start of the list and returns its index.\n",
        "* `list.remove(elem)` -- searches for the first instance of the given element and removes it.\n",
        "* `list.sort()` -- sorts the list in place (does not return it).\n",
        "* `list.reverse()` -- reverses the list in place (does not return it)\n"
      ],
      "metadata": {
        "id": "jBgDwqtc9WDC"
      }
    },
    {
      "cell_type": "code",
      "source": [
        "# defining an empty list\n",
        "mylist = []\n",
        "\n",
        "# adding some elements\n",
        "mylist.append('muffins')\n",
        "mylist.append(32)\n",
        "print(mylist)\n",
        "mylist.insert(0,0.2)\n",
        "print(mylist)\n",
        "\n",
        "# concatenating lists\n",
        "mylist2 = mylist+my_first_list\n",
        "print(mylist2)\n",
        "\n",
        "#playing around\n",
        "mylist2.reverse()\n",
        "print(mylist2)\n",
        "\n",
        "\n"
      ],
      "metadata": {
        "id": "mBGwVbOj8Jwz",
        "colab": {
          "base_uri": "https://localhost:8080/"
        },
        "outputId": "0c940470-a498-42f4-f1bc-93820eb0f468"
      },
      "execution_count": null,
      "outputs": [
        {
          "output_type": "stream",
          "name": "stdout",
          "text": [
            "['muffins', 32]\n",
            "[0.2, 'muffins', 32]\n",
            "[0.2, 'muffins', 32, 32, 1, 0.5]\n",
            "[0.5, 1, 32, 32, 'muffins', 0.2]\n"
          ]
        }
      ]
    },
    {
      "cell_type": "markdown",
      "source": [
        "## The `for` and `in` constructs\n",
        "\n",
        "The construct `for var in list` is an easy way to look at each element in a list (or other iterable data structure). Here is an example of the syntax.\n",
        "\n"
      ],
      "metadata": {
        "id": "IF4efFHOtWNT"
      }
    },
    {
      "cell_type": "code",
      "source": [
        "squares = [1, 2, 3, 4]\n",
        "sum = 0\n",
        "for num in squares:\n",
        "  sum += num**2\n",
        "print(sum)"
      ],
      "metadata": {
        "id": "u3XB7kuruQhP",
        "colab": {
          "base_uri": "https://localhost:8080/"
        },
        "outputId": "8b5c0b6c-966c-4421-ede5-58a871e8f950"
      },
      "execution_count": null,
      "outputs": [
        {
          "output_type": "stream",
          "name": "stdout",
          "text": [
            "30\n"
          ]
        }
      ]
    },
    {
      "cell_type": "code",
      "source": [
        "# The range(n) function yields the numbers 0, 1, ... n-1,\n",
        "# and range(a, b) returns a, a+1, ... b-1\n",
        "# and range(a,b,c) returns a, a+c, a+2c, ... up to b-1 or the closest number\n",
        "# This can be used to construct a classic numeric for loop\n",
        "for i in range(2,10,2):\n",
        "  print(i)\n",
        "\n",
        "\n"
      ],
      "metadata": {
        "id": "flmoBQSpH782",
        "colab": {
          "base_uri": "https://localhost:8080/"
        },
        "outputId": "927905bc-1ef3-44fa-b6a6-a5223d78e465"
      },
      "execution_count": null,
      "outputs": [
        {
          "output_type": "stream",
          "name": "stdout",
          "text": [
            "2\n",
            "4\n",
            "6\n",
            "8\n"
          ]
        }
      ]
    },
    {
      "cell_type": "markdown",
      "source": [
        "And here it comes the first exercise:\n",
        "\n",
        "1.   Write a for code for computing the $20^{th}$ number in the Fibonacci sequence. Print the result.\n",
        "2.   Modify your code to store the Fibonacci sequence in a list. Print the result.\n",
        "\n",
        "$$F_{0}=0,\\qquad F_{1}=1, \\qquad F_{n}=F_{n-1}+F_{n-2}$$"
      ],
      "metadata": {
        "id": "3qc8EsRmJrFC"
      }
    },
    {
      "cell_type": "code",
      "source": [
        "# your code here\n",
        "f0 = 0\n",
        "f1 = 1\n",
        "fibonacci = [f0,f1]\n",
        "\n",
        "for n in range(2,21):\n",
        "  f0, f1 = f1, f0+f1\n",
        "  fibonacci.append(f1)\n",
        "\n",
        "print(fibonacci)\n",
        "\n"
      ],
      "metadata": {
        "id": "nv6GikiZQFV_",
        "colab": {
          "base_uri": "https://localhost:8080/"
        },
        "outputId": "c5b7b19a-7798-493f-cdcf-ac4251a62212"
      },
      "execution_count": null,
      "outputs": [
        {
          "output_type": "stream",
          "name": "stdout",
          "text": [
            "[0, 1, 1, 2, 3, 5, 8, 13, 21, 34, 55, 89, 144, 233, 377, 610, 987, 1597, 2584, 4181, 6765]\n"
          ]
        }
      ]
    },
    {
      "cell_type": "markdown",
      "source": [
        "## the `while` and `if` constructs\n",
        "The `in` construct can be used by itself to check if a variable appears in a list. Booleans can be used as conditions for `while` and if `constructs`. Here an example:"
      ],
      "metadata": {
        "id": "zqKWN1r-HP1E"
      }
    },
    {
      "cell_type": "code",
      "source": [
        "treats = [\"muffins\",\"cookies\",\"chocolate\"]\n",
        "\n",
        "favourite = \"cookies\"\n",
        "\n",
        "print(\"Is favourite in the treats list? \", favourite in treats)"
      ],
      "metadata": {
        "id": "xHOq5A8PHbQi",
        "colab": {
          "base_uri": "https://localhost:8080/"
        },
        "outputId": "f4e40334-e3ac-472f-d97e-ac88393b0e70"
      },
      "execution_count": null,
      "outputs": [
        {
          "output_type": "stream",
          "name": "stdout",
          "text": [
            "Is favourite in the treats list?  True\n"
          ]
        }
      ]
    },
    {
      "cell_type": "markdown",
      "source": [
        "Here is an example of the syntax for the `if` construct"
      ],
      "metadata": {
        "id": "_XV_g_TIc2m9"
      }
    },
    {
      "cell_type": "code",
      "source": [
        "BSc_at_ICL = False  # Have you done your BSc here at Imperial? If yes, change the variable to True\n",
        "\n",
        "if BSc_at_ICL:\n",
        "  print(\"Welcome back :)\")\n",
        "else:\n",
        "  print(\"Welcome to Imperial!\")\n"
      ],
      "metadata": {
        "id": "JN12eu9Dc2Eu",
        "colab": {
          "base_uri": "https://localhost:8080/"
        },
        "outputId": "4e520e10-8b01-418f-9776-3a20b9907479"
      },
      "execution_count": null,
      "outputs": [
        {
          "output_type": "stream",
          "name": "stdout",
          "text": [
            "Welcome to Imperial!\n"
          ]
        }
      ]
    },
    {
      "cell_type": "markdown",
      "source": [
        "## Boolean operators\n",
        "\n",
        "There are two main types of Boolean operators in Python.\n",
        "- *Comparison Operators*: they compare two values of the same type and return a Boolean value of `True` or `False`\n",
        "- *Logical Operators*: they combine the results of other expressions and return `True` or `False`"
      ],
      "metadata": {
        "id": "7GrcNDdWZ7l4"
      }
    },
    {
      "cell_type": "code",
      "source": [
        "a = 1\n",
        "b = 1\n",
        "c = 0\n",
        "print(a>=b & b<c)"
      ],
      "metadata": {
        "id": "77ptIztscoxp",
        "colab": {
          "base_uri": "https://localhost:8080/"
        },
        "outputId": "775981f6-b770-4353-8047-282ec1ff10bf"
      },
      "execution_count": null,
      "outputs": [
        {
          "output_type": "stream",
          "name": "stdout",
          "text": [
            "False\n"
          ]
        }
      ]
    },
    {
      "cell_type": "markdown",
      "source": [
        " **Exercise**: Create a program that, for a given number $n$, prints out a list `divisors_list` of all the divisors of `n`. (hint: the operation \\% returns the remainder of an integer division)"
      ],
      "metadata": {
        "id": "1mKlF84LPqAp"
      }
    },
    {
      "cell_type": "code",
      "source": [
        "n = 12\n",
        "# your code here\n",
        "divisors_list = []\n",
        "for number in range(1,n+1):\n",
        "  if n%number == 0:\n",
        "    divisors_list.append(number)\n",
        "\n",
        "\n",
        "print(divisors_list)"
      ],
      "metadata": {
        "id": "FpEAPandPot6",
        "colab": {
          "base_uri": "https://localhost:8080/"
        },
        "outputId": "6edcf10a-9436-4701-f8c0-69d7d494b666"
      },
      "execution_count": null,
      "outputs": [
        {
          "output_type": "stream",
          "name": "stdout",
          "text": [
            "[1, 2, 3, 4, 6, 12]\n"
          ]
        }
      ]
    },
    {
      "cell_type": "markdown",
      "source": [
        "Here an example for the `while` construct: the Newton's method for the equation\n",
        "$f(x) = 0$ for $f(x)=x^3+3x^2-2x-10$"
      ],
      "metadata": {
        "id": "setvrKN4dY8k"
      }
    },
    {
      "cell_type": "code",
      "source": [
        "# we can now define f and df as functions instead!\n",
        "\n",
        "def f(x):\n",
        "  function = x**3+3*x**2-2*x-10# your code here\n",
        "  return function\n",
        "\n",
        "def df(x):\n",
        "  derivative = 3*x**2+6*x-2# your code here\n",
        "  return derivative\n"
      ],
      "metadata": {
        "id": "r-yuA73Wi-Cv"
      },
      "execution_count": null,
      "outputs": []
    },
    {
      "cell_type": "code",
      "source": [
        "x = 0 # initial guess\n",
        "update = 100\n",
        "tol = 1e-5\n",
        "\n",
        "while abs(update) > tol:\n",
        "\n",
        "  update = f(x)/df(x)\n",
        "  x = x - update\n",
        "\n",
        "print(x)"
      ],
      "metadata": {
        "id": "hyXNHnZqTqcC",
        "colab": {
          "base_uri": "https://localhost:8080/"
        },
        "outputId": "3bc58b49-5efb-44d7-b671-0ed4ed29ed14"
      },
      "execution_count": null,
      "outputs": [
        {
          "output_type": "stream",
          "name": "stdout",
          "text": [
            "1.6890953236376944\n"
          ]
        }
      ]
    },
    {
      "cell_type": "code",
      "source": [
        "# and why not, we can do the same for the Newton's method? let's also add a condition on the maximum number of iterations (condition1 and condition2)\n",
        "\n",
        "def Newton(x0,F,dF,tol,max_iteration):\n",
        "  # your code here\n",
        "  x = x0 - F(x0)/dF(x0)\n",
        "  update = x0 - x\n",
        "  n_iteration = 1\n",
        "\n",
        "  while abs(update)>tol and n_iteration < max_iteration:\n",
        "    n_iteration += 1\n",
        "    update = F(x)/dF(x)\n",
        "    x = x - update\n",
        "\n",
        "  return x\n",
        "\n"
      ],
      "metadata": {
        "id": "t7rG0_7Gj4tO"
      },
      "execution_count": null,
      "outputs": []
    },
    {
      "cell_type": "code",
      "source": [
        "# and here we can evaluate the function\n",
        "solution = Newton(0,f,df,1e-10,1e3)\n",
        "\n",
        "# and then check the error:\n",
        "f(solution) # it needs to be super teeny tiny!"
      ],
      "metadata": {
        "id": "j6pLbuL2kB6v",
        "colab": {
          "base_uri": "https://localhost:8080/"
        },
        "outputId": "60e75ab4-519d-4df7-976b-4d2d177234fd"
      },
      "execution_count": null,
      "outputs": [
        {
          "output_type": "execute_result",
          "data": {
            "text/plain": [
              "1.7763568394002505e-15"
            ]
          },
          "metadata": {},
          "execution_count": 62
        }
      ]
    },
    {
      "cell_type": "markdown",
      "source": [
        "## Exercise on strings and lists\n",
        "\n",
        "Preliminaries: a string is a sequence of characters. You can access the elements using square brackets `[index]`.\n"
      ],
      "metadata": {
        "id": "V4eaZ55Gey2H"
      }
    },
    {
      "cell_type": "code",
      "source": [
        "# playing a bit around with indexes\n",
        "s = \"supercalifragilisticexpialidocious\"\n",
        "s[-5:-1]\n"
      ],
      "metadata": {
        "id": "izGNKjn4eyG7",
        "colab": {
          "base_uri": "https://localhost:8080/",
          "height": 36
        },
        "outputId": "e288989f-f6d4-4add-b1d9-997bc65c5959"
      },
      "execution_count": null,
      "outputs": [
        {
          "output_type": "execute_result",
          "data": {
            "text/plain": [
              "'ciou'"
            ],
            "application/vnd.google.colaboratory.intrinsic+json": {
              "type": "string"
            }
          },
          "metadata": {},
          "execution_count": 70
        }
      ]
    },
    {
      "cell_type": "markdown",
      "source": [
        "Exercise: write a function that takes a list of strings and returns a list in which each element is a list of \"rhyming\" strings. For \"rhyming\" here we mean that the last 2 letters of the word should match.  \n",
        "\n",
        "[I know that this is hardly a rhyming rule, but bear with me.]\n",
        "\n",
        "\n",
        "Example:\n",
        "list = [\"cat\",\"sip\",\"trick\",\"mat\",\"lip\",\"stick\",\"trip\"]\n",
        "rhymator(mylist) =="
      ],
      "metadata": {
        "id": "7RFs77EjOtzY"
      }
    },
    {
      "cell_type": "code",
      "source": [
        "def rhymator(mylist):\n",
        "  #your code here\n",
        "  temp_list = mylist.copy()\n",
        "  rhymelist = []\n",
        "\n",
        "  while len(temp_list)>0:\n",
        "    key = temp_list[0][-2:] #rhyme key\n",
        "    rhyme_group = []\n",
        "\n",
        "    for candidate in mylist:\n",
        "      if candidate[-2:] == key:\n",
        "        rhyme_group.append(candidate)\n",
        "        temp_list.remove(candidate)\n",
        "    rhymelist.append(rhyme_group)\n",
        "\n",
        "  return(rhymelist)"
      ],
      "metadata": {
        "id": "RQea-iFiPRNx"
      },
      "execution_count": null,
      "outputs": []
    },
    {
      "cell_type": "code",
      "source": [
        "# running the code with a test list\n",
        "mylist = [\"cat\",\"sip\",\"trick\",\"mat\",\"lip\",\"stick\",\"trip\",\"platypus\"]\n",
        "rhymator(mylist)"
      ],
      "metadata": {
        "id": "KFFavgvHVboq",
        "colab": {
          "base_uri": "https://localhost:8080/"
        },
        "outputId": "1826ec4b-75e6-4bbf-cea8-93d52dcb7988"
      },
      "execution_count": null,
      "outputs": [
        {
          "output_type": "execute_result",
          "data": {
            "text/plain": [
              "[['cat', 'mat'], ['sip', 'lip', 'trip'], ['trick', 'stick'], ['platypus']]"
            ]
          },
          "metadata": {},
          "execution_count": 74
        }
      ]
    },
    {
      "cell_type": "markdown",
      "source": [
        "## List comprehensions"
      ],
      "metadata": {
        "id": "dlPnBeUYdip9"
      }
    },
    {
      "cell_type": "code",
      "source": [
        "# list comprehensions\n",
        "[i for i in range(1,13) if i%3==0]"
      ],
      "metadata": {
        "id": "c1sJAVsJiqsH",
        "colab": {
          "base_uri": "https://localhost:8080/"
        },
        "outputId": "570dd172-d1c0-4c97-eae7-19d0c7fc4134"
      },
      "execution_count": null,
      "outputs": [
        {
          "output_type": "execute_result",
          "data": {
            "text/plain": [
              "[3, 6, 9, 12]"
            ]
          },
          "metadata": {},
          "execution_count": 77
        }
      ]
    },
    {
      "cell_type": "markdown",
      "source": [
        "Exercise on list comprehensions: write one line of Python that takes a list and makes a new list that has only the even elements of this list in it, then reorder it."
      ],
      "metadata": {
        "id": "9fpNl0-WdrGg"
      }
    },
    {
      "cell_type": "code",
      "source": [
        "#write one line of Python that takes num_list and makes a new list even_list that has only the even elements of num_list in it\n",
        "num_list = [100,25,31,36,2,48,21,114,37,22,10,1,3]\n",
        "even_list = [num for num in num_list if num%2==0]\n",
        "# reorder the list\n",
        "even_list.sort()\n",
        "print(even_list)"
      ],
      "metadata": {
        "id": "DXewx_b8d-Fx",
        "colab": {
          "base_uri": "https://localhost:8080/"
        },
        "outputId": "24d1b255-29d9-4662-97df-7479ff93fe49"
      },
      "execution_count": null,
      "outputs": [
        {
          "output_type": "stream",
          "name": "stdout",
          "text": [
            "[2, 10, 22, 36, 48, 100, 114]\n"
          ]
        }
      ]
    },
    {
      "cell_type": "markdown",
      "source": [
        "## Exercise on prime numbers and list comprehensions\n",
        "\n",
        "Write and test a function called <code>my_primes</code> that takes as its argument a single <code>n</code>, which you can assume to be an integer greater than 1, and, using the sieve of Eratosthenes, returns a list of all the primes between 2 and <code>n</code> inclusive.\n",
        "\n",
        "\n",
        "1. Create a list of consecutive integers from 2 through n: (2, 3, 4, ..., n).\n",
        "2. Initially, let p equal 2, the smallest prime number.\n",
        "3. Enumerate the multiples of $p$ bigger or equal than $p^2$, by counting in increments of $p$ from $p^2$ to $n$, and mark them in the list.\n",
        "4. Find the smallest number in the list greater than $p$ that is not marked. If there was no such number, stop.  Otherwise, let $p$ now equal this new number (which is the next prime), and repeat from step 3.\n",
        "5. When the algorithm terminates, the numbers remaining not marked in the list are all the primes below $n$."
      ],
      "metadata": {
        "id": "RLBTVfNyZXp5"
      }
    },
    {
      "cell_type": "code",
      "source": [
        "def my_primes(n):\n",
        "    # your code here\n",
        "    prime = [True for i in range(n+1)]\n",
        "\n",
        "    p = 2\n",
        "    while (p*p <= n):\n",
        "      if prime[p] == True:\n",
        "        for i in range(p*p,n+1,p):\n",
        "          prime[i] = False\n",
        "      p += 1\n",
        "\n",
        "    mylist = [i for i in range(2,n+1) if prime[i]]\n",
        "    return(mylist)\n",
        "\n",
        "\n",
        "# test\n",
        "my_primes(50)"
      ],
      "metadata": {
        "id": "aofoyl3ObMK0",
        "colab": {
          "base_uri": "https://localhost:8080/"
        },
        "outputId": "4e7bbe17-5218-4476-a94b-80220c7b2443"
      },
      "execution_count": 2,
      "outputs": [
        {
          "output_type": "execute_result",
          "data": {
            "text/plain": [
              "[2, 3, 5, 7, 11, 13, 17, 19, 23, 29, 31, 37, 41, 43, 47]"
            ]
          },
          "metadata": {},
          "execution_count": 2
        }
      ]
    }
  ]
}